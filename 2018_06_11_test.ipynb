{
 "cells": [
  {
   "cell_type": "markdown",
   "metadata": {},
   "source": [
    "## 1."
   ]
  },
  {
   "cell_type": "code",
   "execution_count": 2,
   "metadata": {},
   "outputs": [
    {
     "name": "stdout",
     "output_type": "stream",
     "text": [
      "-민아\n",
      "-혜리\n",
      "-유라\n",
      "-소진\n"
     ]
    }
   ],
   "source": [
    "girlsday_members = ['민아', '혜리', '유라', '소진']\n",
    "for girlsday_info in girlsday_members:\n",
    "    print('-{}'.format(girlsday_info))"
   ]
  },
  {
   "cell_type": "markdown",
   "metadata": {},
   "source": [
    "## 2"
   ]
  },
  {
   "cell_type": "code",
   "execution_count": 8,
   "metadata": {},
   "outputs": [
    {
     "name": "stdout",
     "output_type": "stream",
     "text": [
      "[0] RED : Apple\n",
      "[1] YELLOW : Banana\n",
      "[2] GREEN : Melon\n"
     ]
    }
   ],
   "source": [
    "fruit_dict = {\n",
    "    'red': 'apple',\n",
    "    'yellow': 'banana',\n",
    "    'green': 'melon',\n",
    "}\n",
    "\n",
    "for index,fruit_info in enumerate(fruit_dict):\n",
    "    print('[{}] {} : {}'.format(index, fruit_info.upper(), fruit_dict[fruit_info].title()))\n",
    "    "
   ]
  },
  {
   "cell_type": "markdown",
   "metadata": {},
   "source": [
    "## 3"
   ]
  },
  {
   "cell_type": "markdown",
   "metadata": {},
   "source": [
    "`copy( )`의 경우내가 할당하고 싶은 list를 선택하면 그 값을 기존의 list와 다른 주소값에 할당하게 해준다."
   ]
  },
  {
   "cell_type": "code",
   "execution_count": 12,
   "metadata": {},
   "outputs": [
    {
     "name": "stdout",
     "output_type": "stream",
     "text": [
      "list b : [1, 2, 3, 4]\n",
      "list a : [1, 2, 3, 4]\n"
     ]
    }
   ],
   "source": [
    "a=[1,2,3]\n",
    "b=a\n",
    "b.append(4)\n",
    "print('list b : {}'.format(b))\n",
    "print('list a : {}'.format(a))\n",
    "\n",
    "#b의 값에만 4를 추가하고 싶지만 같은 주소값을 가리키고 있기 때문에 a 값에도 추가가 된다."
   ]
  },
  {
   "cell_type": "markdown",
   "metadata": {},
   "source": [
    "## 4"
   ]
  },
  {
   "cell_type": "code",
   "execution_count": 15,
   "metadata": {},
   "outputs": [
    {
     "name": "stdout",
     "output_type": "stream",
     "text": [
      "[3, 7, 11, 15, 19, 23, 27]\n"
     ]
    }
   ],
   "source": [
    "result = []\n",
    "for i in range(3,30,4):\n",
    "    result.append(i)\n",
    "\n",
    "print(result)"
   ]
  },
  {
   "cell_type": "markdown",
   "metadata": {},
   "source": [
    "## 5"
   ]
  },
  {
   "cell_type": "markdown",
   "metadata": {},
   "source": [
    "`obj['keys']`의 경우 해당값이 존재하지 않을 경우 KeyError를 반환합니다. 하지만 `obj.get('keys')`의 경우는 에러를 반환하지 않고 None값을 반환합니다."
   ]
  },
  {
   "cell_type": "markdown",
   "metadata": {},
   "source": [
    "## 6"
   ]
  },
  {
   "cell_type": "markdown",
   "metadata": {},
   "source": [
    "언패킹: 원소를 여러 변수에 나눠 담는 것"
   ]
  },
  {
   "cell_type": "code",
   "execution_count": 32,
   "metadata": {},
   "outputs": [
    {
     "name": "stdout",
     "output_type": "stream",
     "text": [
      "이름:피카츄   타입:전기 타입\n",
      "이름:파이리   타입:불 타입\n",
      "이름:꼬부기   타입:물 타입\n",
      "이름:이상해씨   타입:풀 타입\n"
     ]
    }
   ],
   "source": [
    "pokemon_info = [\n",
    "    ('피카츄', '전기 타입'),\n",
    "    ('파이리', '불 타입'),\n",
    "    ('꼬부기', '물 타입'),\n",
    "    ('이상해씨', '풀 타입'),\n",
    "]\n",
    "\n",
    "for pokemon,pokemon_type in pokemon_info:\n",
    "    print('이름:{}   타입:{}'.format(pokemon, pokemon_type))\n",
    "\n",
    "    "
   ]
  },
  {
   "cell_type": "markdown",
   "metadata": {},
   "source": [
    "## 7"
   ]
  },
  {
   "cell_type": "markdown",
   "metadata": {},
   "source": [
    "위치인자 : 매개변수의 순서대로 인자를 전달하여 사용하는 경우  \n",
    "키워드인자 : 매개변수의 이름을 지정하여 인자로 전달하여 사용하는 경우"
   ]
  },
  {
   "cell_type": "markdown",
   "metadata": {},
   "source": [
    "## 8"
   ]
  },
  {
   "cell_type": "markdown",
   "metadata": {},
   "source": [
    "#### 1.  \n",
    "클래스 : 객체를 만들기 위한 틀 ex)붕어빵, 붕어빵틀  \n",
    "인스턴스 : 클래스에 의해서 만들어진 객체"
   ]
  },
  {
   "cell_type": "markdown",
   "metadata": {},
   "source": [
    "#### 2\n",
    "`__init__`"
   ]
  },
  {
   "cell_type": "markdown",
   "metadata": {},
   "source": [
    "#### 3\n",
    "객체가 생성되는 시점에 자동으로 호출"
   ]
  },
  {
   "cell_type": "markdown",
   "metadata": {},
   "source": [
    "#### 4\n",
    "호출 시 호출한 객체 자신이 전달되기 때문에 `self`라는 이름을 사용하게 된 것"
   ]
  },
  {
   "cell_type": "markdown",
   "metadata": {},
   "source": [
    "## 9"
   ]
  },
  {
   "cell_type": "markdown",
   "metadata": {},
   "source": [
    "`property`로 만들고 싶은 함수를 데코레이터 사용하는 것과 같이 method위에 `@property`를 써서 정의한다."
   ]
  },
  {
   "cell_type": "markdown",
   "metadata": {},
   "source": [
    "private속성을 가지고 있는 객체를 바꾸기 위해서는 getter, setter가 필요하다.  \n",
    "getter의 경우\n",
    "```python\n",
    "@property\n",
    "def name(self):\n",
    "    return self.__name\n",
    "```\n",
    "setter의 경우\n",
    "```python\n",
    "@name.setter\n",
    "def name(self, new_name):\n",
    "    self.__name = new_name\n",
    "```\n",
    "\n",
    "으로 지정하여 바꾸어 줄 수 있다."
   ]
  },
  {
   "cell_type": "markdown",
   "metadata": {},
   "source": [
    "## 10"
   ]
  },
  {
   "cell_type": "code",
   "execution_count": 33,
   "metadata": {},
   "outputs": [],
   "source": [
    "class User:\n",
    "    def __init__(self, name):\n",
    "        self.name = name\n",
    "        \n",
    "class Student(User):\n",
    "    def __init__(self, age):\n",
    "        super().__init__(name)\n",
    "        self.age = age"
   ]
  },
  {
   "cell_type": "markdown",
   "metadata": {},
   "source": [
    "## 11"
   ]
  },
  {
   "cell_type": "code",
   "execution_count": 35,
   "metadata": {},
   "outputs": [],
   "source": [
    "url = 'http://www.leagueoflegends.co.kr/?m=news&cate=notice'"
   ]
  },
  {
   "cell_type": "code",
   "execution_count": 41,
   "metadata": {},
   "outputs": [],
   "source": [
    "from bs4 import BeautifulSoup\n",
    "import requests"
   ]
  },
  {
   "cell_type": "code",
   "execution_count": 42,
   "metadata": {},
   "outputs": [],
   "source": [
    "lol_url = requests.get(url)\n",
    "html = lol_url.text"
   ]
  },
  {
   "cell_type": "code",
   "execution_count": 62,
   "metadata": {},
   "outputs": [],
   "source": [
    "soup = BeautifulSoup(html, 'lxml')\n",
    "text_list = soup.select('td.tleft > a')"
   ]
  },
  {
   "cell_type": "code",
   "execution_count": 64,
   "metadata": {},
   "outputs": [
    {
     "name": "stdout",
     "output_type": "stream",
     "text": [
      "top[#2] 격전을 준비하세요! (수정)\n",
      "top격전 참여시 불건전 행위에 대한 주의사항 안내(수정)\n",
      "대리 게임 등 적발 현황 263차 안내\n",
      "부정행위 프로그램 제재 현황 안내\n",
      "6월 2차 소환사 문화재지킴이 모집 안내\n",
      "일부 클라이언트 오류 현상에 대한 안내 (정상화)\n",
      "6월 6일(수) 서버 점검 안내 (완료)\n",
      "PBE 인사이드 20화(8.12 패치 편) 방송 안내\n",
      "다시 돌아온 격전! 얼불져스 6/5(화) 방송 일정 안내\n",
      "1일 격전 테스트에 참여해 주세요\n",
      "대리 게임 등 적발 현황 262차 안내\n",
      "부정행위 프로그램 제재 현황 안내\n"
     ]
    }
   ],
   "source": [
    "for text in text_list:\n",
    "    print(text.get_text())"
   ]
  },
  {
   "cell_type": "markdown",
   "metadata": {},
   "source": [
    "## 12"
   ]
  },
  {
   "cell_type": "code",
   "execution_count": 77,
   "metadata": {},
   "outputs": [],
   "source": [
    "\n",
    "class Notice:\n",
    "    def __init__(self, title, date, view):\n",
    "        self.title = title\n",
    "        self.date = date\n",
    "        self.view = view \n",
    "    \n",
    "    "
   ]
  },
  {
   "cell_type": "code",
   "execution_count": 84,
   "metadata": {},
   "outputs": [],
   "source": [
    "notice_list = []\n",
    "lol_url = requests.get(url)\n",
    "html = lol_url.text\n",
    "soup = BeautifulSoup(html, 'lxml')\n",
    "title_list = soup.select('td.tleft > a')\n",
    "date_list = soup.select('tr > td:nth-of-type(2)')\n",
    "view_list = soup.select('tr > td:nth-of-type(3)')\n",
    "        \n",
    "for index in range(len(title_list)):\n",
    "    notice_list.append(Notice(title_list[index].get_text(), date_list[index].string, view_list[index].string))"
   ]
  },
  {
   "cell_type": "code",
   "execution_count": 86,
   "metadata": {},
   "outputs": [
    {
     "name": "stdout",
     "output_type": "stream",
     "text": [
      "top[#2] 격전을 준비하세요! (수정)\n",
      "2018-05-18\n",
      "18,733\n",
      "\n",
      "top격전 참여시 불건전 행위에 대한 주의사항 안내(수정)\n",
      "2018-04-26\n",
      "34,475\n",
      "\n",
      "대리 게임 등 적발 현황 263차 안내\n",
      "2018-06-08\n",
      "5,339\n",
      "\n",
      "부정행위 프로그램 제재 현황 안내\n",
      "2018-06-08\n",
      "2,117\n",
      "\n",
      "6월 2차 소환사 문화재지킴이 모집 안내\n",
      "2018-06-08\n",
      "2,019\n",
      "\n",
      "일부 클라이언트 오류 현상에 대한 안내 (정상화)\n",
      "2018-06-06\n",
      "10,136\n",
      "\n",
      "6월 6일(수) 서버 점검 안내 (완료)\n",
      "2018-06-05\n",
      "40,426\n",
      "\n",
      "PBE 인사이드 20화(8.12 패치 편) 방송 안내\n",
      "2018-06-04\n",
      "9,201\n",
      "\n",
      "다시 돌아온 격전! 얼불져스 6/5(화) 방송 일정 안내\n",
      "2018-06-03\n",
      "14,295\n",
      "\n",
      "1일 격전 테스트에 참여해 주세요\n",
      "2018-06-03\n",
      "16,441\n",
      "\n",
      "대리 게임 등 적발 현황 262차 안내\n",
      "2018-06-01\n",
      "3,222\n",
      "\n",
      "부정행위 프로그램 제재 현황 안내\n",
      "2018-06-01\n",
      "1,219\n",
      "\n"
     ]
    }
   ],
   "source": [
    "# print(notice_list)\n",
    "for notice in notice_list:\n",
    "    print(notice.title)\n",
    "    print(notice.date)\n",
    "    print(notice.view)\n",
    "    print()"
   ]
  },
  {
   "cell_type": "markdown",
   "metadata": {},
   "source": [
    "## 13"
   ]
  },
  {
   "cell_type": "markdown",
   "metadata": {},
   "source": [
    "Browser -> (request) -> Server -> Django application \n",
    "-> urlresolver ->    view1 -> (process) -> (response) -> Server -> Browser\n"
   ]
  }
 ],
 "metadata": {
  "kernelspec": {
   "display_name": "Python 3",
   "language": "python",
   "name": "python3"
  },
  "language_info": {
   "codemirror_mode": {
    "name": "ipython",
    "version": 3
   },
   "file_extension": ".py",
   "mimetype": "text/x-python",
   "name": "python",
   "nbconvert_exporter": "python",
   "pygments_lexer": "ipython3",
   "version": "3.6.5"
  }
 },
 "nbformat": 4,
 "nbformat_minor": 2
}
