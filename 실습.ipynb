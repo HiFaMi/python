{
 "cells": [
  {
   "cell_type": "code",
   "execution_count": 111,
   "metadata": {},
   "outputs": [],
   "source": [
    "class Human:\n",
    "    def __init__(self, name, food):\n",
    "        self.name = name\n",
    "        self.food = food\n",
    "    def give_food(self, given_food):\n",
    "        given_food.eat(self)\n",
    "    def __repr__(self):\n",
    "        return '이름: {}\\n내가 가지고 있는 음식: {}'.format(self.name,self.food)"
   ]
  },
  {
   "cell_type": "code",
   "execution_count": 112,
   "metadata": {},
   "outputs": [],
   "source": [
    "class FoodHuman:\n",
    "    def eat(self, user):\n",
    "        user.food-=10\n",
    "        \n",
    "        \n",
    "class FoodCat:        \n",
    "    def eat(self, user):\n",
    "        user.satiety+=10"
   ]
  },
  {
   "cell_type": "code",
   "execution_count": 113,
   "metadata": {},
   "outputs": [],
   "source": [
    "class Cat:\n",
    "        def __init__(self, name):\n",
    "            self.name = name\n",
    "            self.satiety = 0\n",
    "        def give_food(self, given_food):\n",
    "            given_food.eat(self)\n",
    "        def __repr__(self):\n",
    "            return '이름: {}\\n고양이의 포만감: {}'.format(self.name,self.satiety)"
   ]
  },
  {
   "cell_type": "code",
   "execution_count": 132,
   "metadata": {},
   "outputs": [],
   "source": [
    "kim = Human('kim', 100)\n",
    "food = FoodHuman()\n"
   ]
  },
  {
   "cell_type": "code",
   "execution_count": 138,
   "metadata": {},
   "outputs": [
    {
     "data": {
      "text/plain": [
       "이름: kim\n",
       "내가 가지고 있는 음식: 40"
      ]
     },
     "execution_count": 138,
     "metadata": {},
     "output_type": "execute_result"
    }
   ],
   "source": [
    "kim.give_food(food)\n",
    "kim"
   ]
  },
  {
   "cell_type": "code",
   "execution_count": 204,
   "metadata": {},
   "outputs": [],
   "source": [
    "gug=Cat('gugu')\n",
    "food2=FoodCat()\n"
   ]
  },
  {
   "cell_type": "code",
   "execution_count": 207,
   "metadata": {},
   "outputs": [
    {
     "data": {
      "text/plain": [
       "이름: gugu\n",
       "고양이의 포만감: 30"
      ]
     },
     "execution_count": 207,
     "metadata": {},
     "output_type": "execute_result"
    }
   ],
   "source": [
    "gug.give_food(food2)\n",
    "gug"
   ]
  },
  {
   "cell_type": "code",
   "execution_count": 36,
   "metadata": {},
   "outputs": [],
   "source": []
  },
  {
   "cell_type": "code",
   "execution_count": 159,
   "metadata": {},
   "outputs": [],
   "source": [
    "class EatFood:\n",
    "    def __init__(self,name):\n",
    "        self.name = name\n",
    "        self.__eat_limit = 100\n",
    "        self.eat_status = 50\n",
    "    def eat_food(self,):\n",
    "        if self.eat_status< self.__eat_limit:\n",
    "            self.eat_status+=10\n",
    "            print('음식을 먹습니다!! 포만감:{}'.format(self.eat_status))\n",
    "        else:\n",
    "            print('포만감이 가득 찼습니다!! 포만감: {}'.format(self.eat_status))\n",
    "    \n",
    "    @property    \n",
    "    def eat_limit(self):\n",
    "        return __eat_limit\n",
    "    @eat_limit.setter\n",
    "    def eat_limit(self, new_eat_limit):\n",
    "        self.__eat_limit = new_eat_limit\n",
    "        print('새로운 포만감치 변경: {}'.format(self.__eat_limit))"
   ]
  },
  {
   "cell_type": "code",
   "execution_count": 160,
   "metadata": {},
   "outputs": [],
   "source": [
    "kim = EatFood('min')"
   ]
  },
  {
   "cell_type": "code",
   "execution_count": 161,
   "metadata": {},
   "outputs": [
    {
     "name": "stdout",
     "output_type": "stream",
     "text": [
      "음식을 먹습니다!! 포만감:60\n"
     ]
    }
   ],
   "source": [
    "kim.eat_food()"
   ]
  },
  {
   "cell_type": "code",
   "execution_count": 162,
   "metadata": {},
   "outputs": [
    {
     "name": "stdout",
     "output_type": "stream",
     "text": [
      "새로운 포만감치 변경: 150\n"
     ]
    }
   ],
   "source": [
    "kim.eat_limit = 150"
   ]
  },
  {
   "cell_type": "code",
   "execution_count": 172,
   "metadata": {},
   "outputs": [
    {
     "name": "stdout",
     "output_type": "stream",
     "text": [
      "포만감이 가득 찼습니다!! 포만감: 150\n"
     ]
    }
   ],
   "source": [
    "kim.eat_food()"
   ]
  }
 ],
 "metadata": {
  "kernelspec": {
   "display_name": "Python 3",
   "language": "python",
   "name": "python3"
  },
  "language_info": {
   "codemirror_mode": {
    "name": "ipython",
    "version": 3
   },
   "file_extension": ".py",
   "mimetype": "text/x-python",
   "name": "python",
   "nbconvert_exporter": "python",
   "pygments_lexer": "ipython3",
   "version": "3.6.5"
  }
 },
 "nbformat": 4,
 "nbformat_minor": 2
}
