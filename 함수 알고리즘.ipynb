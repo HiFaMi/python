{
 "cells": [
  {
   "cell_type": "code",
   "execution_count": 106,
   "metadata": {},
   "outputs": [],
   "source": [
    "def sequrntial_search(string,key):\n",
    "    string_index = 0\n",
    "    while string_index<len(string):\n",
    "        if string[string_index] == key:\n",
    "            \n",
    "            return string_index\n",
    "            \n",
    "        else:\n",
    "            string_index+=1\n",
    "            \n",
    "    return -1        "
   ]
  },
  {
   "cell_type": "code",
   "execution_count": 58,
   "metadata": {},
   "outputs": [],
   "source": [
    "def sequrntial_search2(string, key):\n",
    "    if key in string:\n",
    "        return string.index(key)\n",
    "    else:\n",
    "        return -1"
   ]
  },
  {
   "cell_type": "code",
   "execution_count": 78,
   "metadata": {},
   "outputs": [],
   "source": [
    "def sequrntial_search3(string, key):\n",
    "    string_index = 0\n",
    "    for i in string:\n",
    "        if i == key:\n",
    "            return string_index\n",
    "        else:\n",
    "            string_index+=1\n",
    "    return -1"
   ]
  },
  {
   "cell_type": "code",
   "execution_count": 79,
   "metadata": {},
   "outputs": [
    {
     "data": {
      "text/plain": [
       "4"
      ]
     },
     "execution_count": 79,
     "metadata": {},
     "output_type": "execute_result"
    }
   ],
   "source": [
    "sequrntial_search3('hello','o')"
   ]
  },
  {
   "cell_type": "code",
   "execution_count": 80,
   "metadata": {},
   "outputs": [
    {
     "data": {
      "text/plain": [
       "-1"
      ]
     },
     "execution_count": 80,
     "metadata": {},
     "output_type": "execute_result"
    }
   ],
   "source": [
    "sequrntial_search3('hello','i')"
   ]
  },
  {
   "cell_type": "code",
   "execution_count": 107,
   "metadata": {},
   "outputs": [
    {
     "data": {
      "text/plain": [
       "-1"
      ]
     },
     "execution_count": 107,
     "metadata": {},
     "output_type": "execute_result"
    }
   ],
   "source": [
    "sequrntial_search('hello','i')"
   ]
  },
  {
   "cell_type": "code",
   "execution_count": 108,
   "metadata": {},
   "outputs": [
    {
     "data": {
      "text/plain": [
       "2"
      ]
     },
     "execution_count": 108,
     "metadata": {},
     "output_type": "execute_result"
    }
   ],
   "source": [
    "sequrntial_search('hello','l')"
   ]
  },
  {
   "cell_type": "code",
   "execution_count": 1,
   "metadata": {},
   "outputs": [],
   "source": [
    "def selection_sort(x):\n",
    "    a=0\n",
    "    index = 0\n",
    "    for i in range(len(x)):\n",
    "        if x.index(min(x[i:])) == x.index(x[i]):\n",
    "            x[i] = min(x[i:])\n",
    "        else:\n",
    "            a=x[i]\n",
    "            index = x.index(min(x[i:]))\n",
    "            x[i]=min(x[i:])\n",
    "            x[index]=a\n",
    "            "
   ]
  },
  {
   "cell_type": "code",
   "execution_count": 5,
   "metadata": {},
   "outputs": [],
   "source": [
    "def selection_sort1(x):\n",
    "    a=0\n",
    "    mini=x[0]\n",
    "    for i in range(1,len(x)):\n",
    "        if mini>x[i]:\n",
    "            mini = x[i]\n",
    "            "
   ]
  },
  {
   "cell_type": "code",
   "execution_count": 52,
   "metadata": {},
   "outputs": [],
   "source": [
    "test_list = [9, 1, 6, 8, 4, 3, 2, 0, 5, 7]"
   ]
  },
  {
   "cell_type": "code",
   "execution_count": 45,
   "metadata": {},
   "outputs": [
    {
     "name": "stdout",
     "output_type": "stream",
     "text": [
      "0\n"
     ]
    }
   ],
   "source": [
    "mini=test_list[0]\n",
    "for i in range(1,len(test_list)):\n",
    "    if mini>test_list[i]:\n",
    "        mini = test_list[i]\n",
    "        \n",
    "print(mini)"
   ]
  },
  {
   "cell_type": "code",
   "execution_count": 49,
   "metadata": {},
   "outputs": [
    {
     "name": "stdout",
     "output_type": "stream",
     "text": [
      "0\n",
      "0\n",
      "0\n",
      "0\n",
      "0\n",
      "0\n",
      "0\n",
      "0\n",
      "0\n",
      "0\n"
     ]
    }
   ],
   "source": [
    "mini=test_list[0]\n",
    "start = 1\n",
    "for i in range(len(test_list)):\n",
    "    for j in range(start,len(test_list)):\n",
    "        if mini>test_list[j]:\n",
    "            mini = test_list[j]\n",
    "    start+=1\n",
    "    \n",
    "    print(mini)"
   ]
  },
  {
   "cell_type": "code",
   "execution_count": 53,
   "metadata": {},
   "outputs": [
    {
     "name": "stdout",
     "output_type": "stream",
     "text": [
      "[0, 1, 2, 3, 4, 5, 6, 7, 8, 9]\n"
     ]
    }
   ],
   "source": [
    "\n",
    "start = 1\n",
    "a=0\n",
    "for i in range(len(test_list)):\n",
    "    mini = test_list[i]\n",
    "    for j in range(start,len(test_list)):\n",
    "        if mini>test_list[j]:\n",
    "            mini = test_list[j]\n",
    "    a=test_list[i]\n",
    "    test_list[i] = mini\n",
    "    for x in range(start,len(test_list)):\n",
    "        if mini == test_list[x]:\n",
    "            test_list[x]= a\n",
    "    start+=1\n",
    "    \n",
    "print(test_list)"
   ]
  },
  {
   "cell_type": "code",
   "execution_count": 11,
   "metadata": {},
   "outputs": [],
   "source": [
    "selection_sort(test_list)"
   ]
  },
  {
   "cell_type": "code",
   "execution_count": 8,
   "metadata": {
    "scrolled": true
   },
   "outputs": [
    {
     "data": {
      "text/plain": [
       "[0, 1, 2, 3, 4, 5, 6, 7, 8, 9]"
      ]
     },
     "execution_count": 8,
     "metadata": {},
     "output_type": "execute_result"
    }
   ],
   "source": [
    "test_list"
   ]
  },
  {
   "cell_type": "code",
   "execution_count": 49,
   "metadata": {},
   "outputs": [
    {
     "data": {
      "text/plain": [
       "5"
      ]
     },
     "execution_count": 49,
     "metadata": {},
     "output_type": "execute_result"
    }
   ],
   "source": [
    "a=[0,2,3,5,4,1]\n",
    "a.index(min(a[1:]))"
   ]
  },
  {
   "cell_type": "code",
   "execution_count": 97,
   "metadata": {},
   "outputs": [
    {
     "ename": "SyntaxError",
     "evalue": "'return' outside function (<ipython-input-97-8d84e78d50e8>, line 7)",
     "output_type": "error",
     "traceback": [
      "\u001b[0;36m  File \u001b[0;32m\"<ipython-input-97-8d84e78d50e8>\"\u001b[0;36m, line \u001b[0;32m7\u001b[0m\n\u001b[0;31m    return 'hello'[b]\u001b[0m\n\u001b[0m    ^\u001b[0m\n\u001b[0;31mSyntaxError\u001b[0m\u001b[0;31m:\u001b[0m 'return' outside function\n"
     ]
    }
   ],
   "source": []
  }
 ],
 "metadata": {
  "kernelspec": {
   "display_name": "Python 3",
   "language": "python",
   "name": "python3"
  },
  "language_info": {
   "codemirror_mode": {
    "name": "ipython",
    "version": 3
   },
   "file_extension": ".py",
   "mimetype": "text/x-python",
   "name": "python",
   "nbconvert_exporter": "python",
   "pygments_lexer": "ipython3",
   "version": "3.6.5"
  }
 },
 "nbformat": 4,
 "nbformat_minor": 2
}
