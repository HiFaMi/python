{
 "cells": [
  {
   "cell_type": "code",
   "execution_count": 287,
   "metadata": {},
   "outputs": [],
   "source": [
    "class Libary():\n",
    "    def __init__(self, name,):\n",
    "        self.name = name\n",
    "        self.book_list = []\n",
    "        \n",
    "    def add_book(self, book):\n",
    "        if book.title not in self.book_list:\n",
    "            (self.book_list).append(book.title)\n",
    "            print('{}책이 추가되었습니다.'.format(book.title))\n",
    "        \n",
    "    def remove_book(self, book):\n",
    "        if book.title in self.book_list:\n",
    "            (self.book_list).remove(book.title)\n",
    "            book.title = ''\n",
    "            print('{}책을 삭제하였습니다.'.format(book.title))\n",
    "        \n",
    "        else:\n",
    "            print('{} 이라는 책은 없어 삭제가 불가능합니다.'.format(book.title))\n",
    "        \n",
    "    @property\n",
    "    def info(self):\n",
    "        if len(self.book_list)>0:\n",
    "            print('== 책 목록 ==')\n",
    "            for index ,book in enumerate(sorted(self.book_list)):\n",
    "                print('{}. {}'.format((index+1), book))\n",
    "        \n",
    "        else:\n",
    "            print('가지고 있는 책이 없습니다.')\n",
    "        "
   ]
  },
  {
   "cell_type": "code",
   "execution_count": 288,
   "metadata": {},
   "outputs": [],
   "source": [
    "class Book:\n",
    "    def __init__(self, title):\n",
    "        self.title = title\n",
    "        self.location = 'libary'\n",
    "    \n",
    "    @property\n",
    "    def info(self):\n",
    "        if self.title == '':\n",
    "            print('삭제되거나 없는 책 입니다.')\n",
    "        \n",
    "        else:\n",
    "            print('책 이름: {}'.format(self.title))\n",
    "    \n",
    "        \n",
    "    @property\n",
    "    def is_borrowed(self):\n",
    "        if self.location == 'libary':\n",
    "            print('{}은 현재 도서관에 있습니다.'.format(self.title))\n",
    "        else:\n",
    "            print('{}은 현재 다른사람이 빌리는 중 입니다.'.format(self.title))"
   ]
  },
  {
   "cell_type": "code",
   "execution_count": 309,
   "metadata": {},
   "outputs": [],
   "source": [
    "class User():\n",
    "    def __init__(self, name):\n",
    "        self.name = name\n",
    "        self.book_list = []\n",
    "        self.__limit_book = 3\n",
    "        \n",
    "    def borrow_book(self, libary, book):\n",
    "        if len(self.book_list)<self.__limit_book:\n",
    "            if book.title in libary.book_list:\n",
    "                (libary.book_list).remove(book.title)\n",
    "                (self.book_list).append(book.title)\n",
    "                book.location = 'user'\n",
    "                print('{}을 {}님이 빌리셨습니다.'.format(book.title, self.name))\n",
    "                print('책은 현재 {}에게 있습니다.'.format(self.name))\n",
    "\n",
    "            else:\n",
    "                print('현재 빌리시려는 책이 없거나 빌린 상태입니다.')\n",
    "        else:\n",
    "            print('한사람당 빌릴 수 있는 책은 총 3권 입니다.')\n",
    "    \n",
    "    def return_book(self, libary, book):\n",
    "        if len(self.book_list) >0:\n",
    "            if book.title in self.book_list:\n",
    "                (self.book_list).remove(book.title)\n",
    "                (libary.book_list).append(book.title)\n",
    "                book.location = 'libary'\n",
    "                print('{}을 {}님이 반납하셨습니다.'.format(book.title, self.name))\n",
    "                print('책은 현재 {}에 있습니다.'.format(libary.name))\n",
    "\n",
    "            else:\n",
    "                print('책 이름을 다시 확인 해 주세요.')\n",
    "        \n",
    "        else:\n",
    "            print('현재 반납하실 책이 없습니다.')\n",
    "            \n",
    "    @property\n",
    "    def info(self):\n",
    "        if len(self.book_list) >0:\n",
    "            print('=={}의 책 목록=='.format(self.name))\n",
    "            for index, book in enumerate(sorted(self.book_list)):\n",
    "                print('{}. {}'.format((index+1),book))\n",
    "        \n",
    "        else:\n",
    "            print('현재 빌리신 책이 없습니다.')"
   ]
  },
  {
   "cell_type": "code",
   "execution_count": 310,
   "metadata": {},
   "outputs": [],
   "source": [
    "libary = Libary('도서관')"
   ]
  },
  {
   "cell_type": "code",
   "execution_count": 311,
   "metadata": {},
   "outputs": [],
   "source": [
    "book1= Book('마음의 소리')\n",
    "book2= Book('해품달')\n",
    "book3= Book('gogogo')\n",
    "book4= Book('용의자 x의 헌신')\n",
    "book5= Book('pokemon')\n",
    "book6= Book('삭제')"
   ]
  },
  {
   "cell_type": "code",
   "execution_count": 312,
   "metadata": {},
   "outputs": [
    {
     "name": "stdout",
     "output_type": "stream",
     "text": [
      "책 이름: 마음의 소리\n",
      "책 이름: 해품달\n",
      "책 이름: gogogo\n",
      "책 이름: 용의자 x의 헌신\n",
      "책 이름: pokemon\n",
      "책 이름: 삭제\n"
     ]
    }
   ],
   "source": [
    "book1.info\n",
    "book2.info\n",
    "book3.info\n",
    "book4.info\n",
    "book5.info\n",
    "book6.info"
   ]
  },
  {
   "cell_type": "code",
   "execution_count": 313,
   "metadata": {},
   "outputs": [
    {
     "name": "stdout",
     "output_type": "stream",
     "text": [
      "마음의 소리책이 추가되었습니다.\n",
      "해품달책이 추가되었습니다.\n",
      "gogogo책이 추가되었습니다.\n",
      "용의자 x의 헌신책이 추가되었습니다.\n",
      "pokemon책이 추가되었습니다.\n",
      "삭제책이 추가되었습니다.\n"
     ]
    }
   ],
   "source": [
    "libary.add_book(book1)\n",
    "libary.add_book(book2)\n",
    "libary.add_book(book3)\n",
    "libary.add_book(book4)\n",
    "libary.add_book(book5)\n",
    "libary.add_book(book6)"
   ]
  },
  {
   "cell_type": "code",
   "execution_count": 314,
   "metadata": {},
   "outputs": [
    {
     "name": "stdout",
     "output_type": "stream",
     "text": [
      "== 책 목록 ==\n",
      "1. gogogo\n",
      "2. pokemon\n",
      "3. 마음의 소리\n",
      "4. 삭제\n",
      "5. 용의자 x의 헌신\n",
      "6. 해품달\n"
     ]
    }
   ],
   "source": [
    "libary.info"
   ]
  },
  {
   "cell_type": "code",
   "execution_count": 315,
   "metadata": {},
   "outputs": [
    {
     "name": "stdout",
     "output_type": "stream",
     "text": [
      "책을 삭제하였습니다.\n"
     ]
    }
   ],
   "source": [
    "libary.remove_book(book6)"
   ]
  },
  {
   "cell_type": "code",
   "execution_count": 316,
   "metadata": {},
   "outputs": [
    {
     "name": "stdout",
     "output_type": "stream",
     "text": [
      "== 책 목록 ==\n",
      "1. gogogo\n",
      "2. pokemon\n",
      "3. 마음의 소리\n",
      "4. 용의자 x의 헌신\n",
      "5. 해품달\n"
     ]
    }
   ],
   "source": [
    "libary.info"
   ]
  },
  {
   "cell_type": "code",
   "execution_count": 317,
   "metadata": {},
   "outputs": [
    {
     "name": "stdout",
     "output_type": "stream",
     "text": [
      "책 이름: 마음의 소리\n",
      "책 이름: 해품달\n",
      "책 이름: gogogo\n",
      "책 이름: 용의자 x의 헌신\n",
      "책 이름: pokemon\n",
      "삭제되거나 없는 책 입니다.\n"
     ]
    }
   ],
   "source": [
    "book1.info\n",
    "book2.info\n",
    "book3.info\n",
    "book4.info\n",
    "book5.info\n",
    "book6.info"
   ]
  },
  {
   "cell_type": "code",
   "execution_count": 318,
   "metadata": {},
   "outputs": [],
   "source": [
    "kim = User('Mingyu')"
   ]
  },
  {
   "cell_type": "code",
   "execution_count": 319,
   "metadata": {},
   "outputs": [
    {
     "name": "stdout",
     "output_type": "stream",
     "text": [
      "해품달을 Mingyu님이 빌리셨습니다.\n",
      "책은 현재 Mingyu에게 있습니다.\n"
     ]
    }
   ],
   "source": [
    "kim.borrow_book(libary, book2)"
   ]
  },
  {
   "cell_type": "code",
   "execution_count": 320,
   "metadata": {},
   "outputs": [
    {
     "name": "stdout",
     "output_type": "stream",
     "text": [
      "gogogo을 Mingyu님이 빌리셨습니다.\n",
      "책은 현재 Mingyu에게 있습니다.\n"
     ]
    }
   ],
   "source": [
    "kim.borrow_book(libary, book3)"
   ]
  },
  {
   "cell_type": "code",
   "execution_count": 321,
   "metadata": {},
   "outputs": [
    {
     "name": "stdout",
     "output_type": "stream",
     "text": [
      "==Mingyu의 책 목록==\n",
      "1. gogogo\n",
      "2. 해품달\n"
     ]
    }
   ],
   "source": [
    "kim.info"
   ]
  },
  {
   "cell_type": "code",
   "execution_count": 322,
   "metadata": {},
   "outputs": [
    {
     "name": "stdout",
     "output_type": "stream",
     "text": [
      "해품달을 Mingyu님이 반납하셨습니다.\n",
      "책은 현재 도서관에 있습니다.\n"
     ]
    }
   ],
   "source": [
    "kim.return_book(libary,book2)"
   ]
  },
  {
   "cell_type": "code",
   "execution_count": 323,
   "metadata": {},
   "outputs": [
    {
     "name": "stdout",
     "output_type": "stream",
     "text": [
      "책 이름을 다시 확인 해 주세요.\n"
     ]
    }
   ],
   "source": [
    "kim.return_book(libary,book2)"
   ]
  },
  {
   "cell_type": "code",
   "execution_count": 324,
   "metadata": {},
   "outputs": [
    {
     "name": "stdout",
     "output_type": "stream",
     "text": [
      "== 책 목록 ==\n",
      "1. pokemon\n",
      "2. 마음의 소리\n",
      "3. 용의자 x의 헌신\n",
      "4. 해품달\n"
     ]
    }
   ],
   "source": [
    "libary.info"
   ]
  },
  {
   "cell_type": "code",
   "execution_count": 325,
   "metadata": {},
   "outputs": [
    {
     "name": "stdout",
     "output_type": "stream",
     "text": [
      "==Mingyu의 책 목록==\n",
      "1. gogogo\n"
     ]
    }
   ],
   "source": [
    "kim.info"
   ]
  },
  {
   "cell_type": "code",
   "execution_count": 326,
   "metadata": {},
   "outputs": [
    {
     "name": "stdout",
     "output_type": "stream",
     "text": [
      "해품달을 Mingyu님이 빌리셨습니다.\n",
      "책은 현재 Mingyu에게 있습니다.\n",
      "용의자 x의 헌신을 Mingyu님이 빌리셨습니다.\n",
      "책은 현재 Mingyu에게 있습니다.\n"
     ]
    }
   ],
   "source": [
    "kim.borrow_book(libary, book2)\n",
    "kim.borrow_book(libary, book4)"
   ]
  },
  {
   "cell_type": "code",
   "execution_count": 327,
   "metadata": {},
   "outputs": [
    {
     "name": "stdout",
     "output_type": "stream",
     "text": [
      "한사람당 빌릴 수 있는 책은 총 3권 입니다.\n"
     ]
    }
   ],
   "source": [
    "kim.borrow_book(libary, book5)"
   ]
  },
  {
   "cell_type": "code",
   "execution_count": 328,
   "metadata": {},
   "outputs": [
    {
     "name": "stdout",
     "output_type": "stream",
     "text": [
      "==Mingyu의 책 목록==\n",
      "1. gogogo\n",
      "2. 용의자 x의 헌신\n",
      "3. 해품달\n"
     ]
    }
   ],
   "source": [
    "kim.info"
   ]
  },
  {
   "cell_type": "code",
   "execution_count": 329,
   "metadata": {},
   "outputs": [
    {
     "name": "stdout",
     "output_type": "stream",
     "text": [
      "해품달을 Mingyu님이 반납하셨습니다.\n",
      "책은 현재 도서관에 있습니다.\n",
      "gogogo을 Mingyu님이 반납하셨습니다.\n",
      "책은 현재 도서관에 있습니다.\n",
      "용의자 x의 헌신을 Mingyu님이 반납하셨습니다.\n",
      "책은 현재 도서관에 있습니다.\n",
      "현재 반납하실 책이 없습니다.\n"
     ]
    }
   ],
   "source": [
    "kim.return_book(libary,book2)\n",
    "kim.return_book(libary,book3)\n",
    "kim.return_book(libary,book4)\n",
    "kim.return_book(libary,book5)"
   ]
  },
  {
   "cell_type": "code",
   "execution_count": 330,
   "metadata": {},
   "outputs": [
    {
     "name": "stdout",
     "output_type": "stream",
     "text": [
      "== 책 목록 ==\n",
      "1. gogogo\n",
      "2. pokemon\n",
      "3. 마음의 소리\n",
      "4. 용의자 x의 헌신\n",
      "5. 해품달\n"
     ]
    }
   ],
   "source": [
    "libary.info"
   ]
  },
  {
   "cell_type": "code",
   "execution_count": 331,
   "metadata": {},
   "outputs": [
    {
     "name": "stdout",
     "output_type": "stream",
     "text": [
      "현재 빌리신 책이 없습니다.\n"
     ]
    }
   ],
   "source": [
    "kim.info"
   ]
  },
  {
   "cell_type": "code",
   "execution_count": null,
   "metadata": {},
   "outputs": [],
   "source": []
  }
 ],
 "metadata": {
  "kernelspec": {
   "display_name": "Python 3",
   "language": "python",
   "name": "python3"
  },
  "language_info": {
   "codemirror_mode": {
    "name": "ipython",
    "version": 3
   },
   "file_extension": ".py",
   "mimetype": "text/x-python",
   "name": "python",
   "nbconvert_exporter": "python",
   "pygments_lexer": "ipython3",
   "version": "3.6.5"
  }
 },
 "nbformat": 4,
 "nbformat_minor": 2
}
